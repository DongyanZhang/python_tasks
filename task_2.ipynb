{
 "cells": [
  {
   "cell_type": "markdown",
   "metadata": {},
   "source": [
    "# Task2 学习列表、元组、string字符串\n",
    "## 1. 列表\n",
    "### 1.1 标志\n",
    "用方括号`[]`表示列表，并用`,`来分割其中的元素  \n",
    "举例：`bicycles = ['trek', 'cannondale', 'redline', 'specialized']`"
   ]
  },
  {
   "cell_type": "markdown",
   "metadata": {},
   "source": [
    "### 1.2 基本操作\n",
    "* **创建**  \n",
    "`listname = [元素1, 元素2, 元素3, ...]`"
   ]
  },
  {
   "cell_type": "code",
   "execution_count": 4,
   "metadata": {},
   "outputs": [
    {
     "name": "stdout",
     "output_type": "stream",
     "text": [
      "['trek', 'cannondale', 'redline', 'specialized']\n"
     ]
    }
   ],
   "source": [
    "bicycles = ['trek', 'cannondale', 'redline', 'specialized']\n",
    "print(bicycles)"
   ]
  },
  {
   "cell_type": "markdown",
   "metadata": {},
   "source": [
    "* **访问列表元素**  \n",
    "  使用下标索引来访问列表中的值，同样你也可以使用方括号的形式截取字符  \n",
    "  取最后一个元素，可以使用`-1`做索引，以此类推，可以获取倒数第二个、倒数第三个  \n",
    "  输出从第二个元素开始后的所有元素：`listname[1:]`"
   ]
  },
  {
   "cell_type": "code",
   "execution_count": 8,
   "metadata": {},
   "outputs": [
    {
     "data": {
      "text/plain": [
       "('trek', 'cannondale')"
      ]
     },
     "execution_count": 8,
     "metadata": {},
     "output_type": "execute_result"
    }
   ],
   "source": [
    "bicycles[0],bicycles[1]"
   ]
  },
  {
   "cell_type": "code",
   "execution_count": 9,
   "metadata": {},
   "outputs": [
    {
     "data": {
      "text/plain": [
       "['cannondale', 'redline']"
      ]
     },
     "execution_count": 9,
     "metadata": {},
     "output_type": "execute_result"
    }
   ],
   "source": [
    "bicycles[1:3]"
   ]
  },
  {
   "cell_type": "code",
   "execution_count": 10,
   "metadata": {},
   "outputs": [
    {
     "data": {
      "text/plain": [
       "'specialized'"
      ]
     },
     "execution_count": 10,
     "metadata": {},
     "output_type": "execute_result"
    }
   ],
   "source": [
    "bicycles[-1]"
   ]
  },
  {
   "cell_type": "code",
   "execution_count": 12,
   "metadata": {},
   "outputs": [
    {
     "data": {
      "text/plain": [
       "'redline'"
      ]
     },
     "execution_count": 12,
     "metadata": {},
     "output_type": "execute_result"
    }
   ],
   "source": [
    "bicycles[-2]"
   ]
  },
  {
   "cell_type": "markdown",
   "metadata": {},
   "source": [
    "* **插入元素**  \n",
    "  使用`listname.append(新元素)`，此时新元素插入到list末尾  \n",
    "  使用`listname.insert(索引号，新元素)`，此时新元素插入到索引指定的位置"
   ]
  },
  {
   "cell_type": "code",
   "execution_count": 20,
   "metadata": {},
   "outputs": [
    {
     "name": "stdout",
     "output_type": "stream",
     "text": [
      "['Michael', 'Jack', 'Bob', 'Tracy', 'Adam']\n",
      "['Michael', 'Jack', 'John', 'Bob', 'Tracy', 'Adam']\n"
     ]
    }
   ],
   "source": [
    "classmates = ['Michael', 'Jack', 'Bob', 'Tracy']\n",
    "classmates.append('Adam')\n",
    "print(classmates)\n",
    "classmates.insert(2,'John')\n",
    "print(classmates)"
   ]
  },
  {
   "cell_type": "markdown",
   "metadata": {},
   "source": [
    "* **删除元素**  \n",
    "  使用`pop()`方法删除list末尾的元素  \n",
    "  使用`pop(i)`方法删除指定位置的元素，其中`i`为索引位置  \n",
    "  使用del语句`del listname[索引号]`删除列表指定位置的元素"
   ]
  },
  {
   "cell_type": "code",
   "execution_count": 22,
   "metadata": {},
   "outputs": [
    {
     "name": "stdout",
     "output_type": "stream",
     "text": [
      "['Michael', 'Jack', 'John', 'Bob', 'Tracy', 'Adam']\n",
      "['Michael', 'Jack', 'John', 'Bob', 'Tracy']\n",
      "['Michael', 'John', 'Bob', 'Tracy']\n",
      "['Michael', 'Jack', 'Tracy']\n"
     ]
    }
   ],
   "source": [
    "print(classmates)\n",
    "classmates.pop()\n",
    "print(classmates)\n",
    "classmates.pop(1)\n",
    "print(classmates)\n",
    "classmates = ['Michael', 'Jack', 'Bob', 'Tracy']\n",
    "del classmates[2]\n",
    "print(classmates)"
   ]
  },
  {
   "cell_type": "markdown",
   "metadata": {},
   "source": [
    "* **其他操作**  \n",
    "  1. 要把某个元素替换成别的元素，可以直接赋值给对应的索引位置  \n",
    "  2. list里面的元素的数据类型也可以不同  \n",
    "  3. list元素也可以是另一个list，即嵌套列表`s = ['python', 'java', ['asp', 'php'], 'scheme']`\n",
    "  4. list长度`len(listname)`，空列表`len=0`\n",
    "  5. 组合`[1, 2, 3] + [4, 5, 6]`，结果为 `[1, 2, 3, 4, 5, 6]`\n",
    "  6. 重复元素`['Hi!'] * 4`，结果为 `['Hi!', 'Hi!', 'Hi!', 'Hi!']`\n",
    "  7. 判断元素是否存在于列表中`3 in [1, 2, 3]`，结果为`true`\n",
    "  8. `max(list)`返回列表元素最大值  `min(list)`返回列表元素最小值\n",
    "  \n",
    "### 1.3 列表相关方法  \n",
    "1. `list.count(obj)`统计某个元素在列表中出现的次数\n",
    "2. `list(seq)`将元组转换为列表\n",
    "3. `list.extend(seq)`在列表末尾一次性追加另一个序列中的多个值（用新列表扩展原来的列表）\n",
    "4. `list.index(obj)`从列表中找出某个值第一个匹配项的索引位置\n",
    "5. `list.insert(index, obj)`将对象插入列表\n",
    "6. `list.pop([index=-1])`移除列表中的一个元素（默认最后一个元素），并且返回该元素的值\n",
    "7. `list.remove(obj)`移除列表中某个值的第一个匹配项\n",
    "8. `list.reverse()`反向列表中元素\n",
    "9. `list.sort( key=None, reverse=False)`对原列表进行排序\n",
    "10. `list.clear()`清空列表\n",
    "11. `list.copy()`复制列表"
   ]
  },
  {
   "cell_type": "markdown",
   "metadata": {},
   "source": [
    "## 2. 元组\n",
    "### 2.1 标志\n",
    "元组(tuple)是一种有序列表，一旦初始化就不能修改\n",
    "`tuplename = (first, second, third, ...)`\n",
    "### 2.2 基本操作\n",
    "1. 创建空元组 `tup1=()`\n",
    "2. 创建只包含一个元素的元组 `tup1=(1,)`\n",
    "3. 访问元组 使用下标索引来访问元组中的值\n",
    "4. 修改元组 **元组中的值不允许修改**\n",
    "5. 连接元组 `tup3=tup1+tup2`\n",
    "6. 删除元组 `del tup`\n",
    "7. 计算元素个数 `len((1,2,3))`\n",
    "8. 复制 `('Hi!',)*4`\n",
    "9. 判断元素是否存在 `3 in (1,2,3)`\n",
    "10. `tuple(seq)`将列表转换为元组"
   ]
  },
  {
   "cell_type": "code",
   "execution_count": 11,
   "metadata": {},
   "outputs": [
    {
     "name": "stdout",
     "output_type": "stream",
     "text": [
      "('Michael', 'Jack', 'Bob', 'Tracy') (1, 2, 3) () (20,)\n",
      "(('Michael', 'Jack', 'Bob', 'Tracy'), (1, 2, 3), ['Lucy', 'Bob'])\n",
      "('Michael', 'Jack', 'Bob', 'Tracy', 1, 2, 3)\n",
      "('Lucy', 'Bob')\n"
     ]
    },
    {
     "data": {
      "text/plain": [
       "3"
      ]
     },
     "execution_count": 11,
     "metadata": {},
     "output_type": "execute_result"
    }
   ],
   "source": [
    "tup1=('Michael', 'Jack', 'Bob', 'Tracy')\n",
    "tup2=(1,2,3)\n",
    "tup3=()\n",
    "tup4=(20,)\n",
    "print(tup1,tup2,tup3,tup4)\n",
    "list1=['Lucy','Bob']\n",
    "tup5=(tup1,tup2,list1)\n",
    "print(tup5)\n",
    "del tup4\n",
    "# print(tup4)\n",
    "tup6=tup1+tup2\n",
    "print(tup6)\n",
    "m=tuple(list1)\n",
    "print(m)\n",
    "len(tup5)"
   ]
  },
  {
   "cell_type": "markdown",
   "metadata": {},
   "source": [
    "## 3. string字符串\n",
    "### 3.1 定义及基本操作  \n",
    "* 定义：字符串是字符的序列  \n",
    "`var1 = 'Hello World!'`  \n",
    "`var2 = \"字符串\"`  \n",
    "`st=\"\"\"\n",
    "line1\n",
    "line2\n",
    "line3\n",
    "\"\"\"`\n",
    "* **基本操作**  \n",
    "  1. 对于单个字符的编码，Python提供了`ord()`函数获取字符的整数表示，`chr()`函数把编码转换为对应的字符\n",
    "  2. `+` 字符串连接\n",
    "  3. `*`重复输出字符串\n",
    "  4. `[]`通过索引获取字符串中字符\n",
    "  5. `[ : ]`截取字符串中的一部分，遵循左闭右开原则，`str[0,2]`是不包含第3个字符的。\n",
    "  6. `in`成员运算符 - 如果字符串中包含给定的字符返回`True`\n",
    "  7. `not in`成员运算符 - 如果字符串中不包含给定的字符返回`True`\n",
    "  8. `r/R`原始字符串 - 原始字符串：所有的字符串都是直接按照字面的意思来使用，没有转义特殊或不能打印的字符。原始字符串除在字符串的第一个引号前加上字母r（可以大小写）以外，与普通字符串有着几乎完全相同的语法。 "
   ]
  },
  {
   "cell_type": "code",
   "execution_count": 27,
   "metadata": {},
   "outputs": [
    {
     "name": "stdout",
     "output_type": "stream",
     "text": [
      "\n",
      "line1\n",
      "line2\n",
      "line3\n",
      "\n"
     ]
    }
   ],
   "source": [
    "st=\"\"\"  #或者'''  '''\n",
    "line1\n",
    "line2\n",
    "line3\n",
    "\"\"\"\n",
    "print(st)"
   ]
  },
  {
   "cell_type": "code",
   "execution_count": 25,
   "metadata": {},
   "outputs": [
    {
     "name": "stdout",
     "output_type": "stream",
     "text": [
      "helloworld\n",
      "worldworldworldworld\n"
     ]
    }
   ],
   "source": [
    "st1='hello'\n",
    "st2='world'\n",
    "print(st1+st2)\n",
    "print(st2*4)"
   ]
  },
  {
   "cell_type": "markdown",
   "metadata": {},
   "source": [
    "### 3.2 字符串相关方法\n",
    "1. `capitalize()`将字符串的第一个字符转换为大写\n",
    "2. `center(width, fillchar)`返回一个指定的宽度 width 居中的字符串，fillchar 为填充的字符，默认为空格。\n",
    "3. `count(str, beg= 0,end=len(string))`返回`str`在`string`里面出现的次数，如果 beg 或者 end 指定则返回指定范围内 str 出现的次数\n",
    "4. `bytes.decode(encoding=\"utf-8\", errors=\"strict\")`Python3 中没有 decode 方法，但我们可以使用 bytes 对象的 decode() 方法来解码给定的 bytes 对象，这个 bytes 对象可以由 str.encode() 来编码返回。\n",
    "5. `encode(encoding='UTF-8',errors='strict')`以 encoding 指定的编码格式编码字符串，如果出错默认报一个ValueError 的异常，除非 errors 指定的是'ignore'或者'replace'\n",
    "6. `endswith(suffix, beg=0, end=len(string))`检查字符串是否以 obj 结束，如果beg 或者 end 指定则检查指定的范围内是否以 obj 结束，如果是，返回 True,否则返回 False.\n",
    "7. `expandtabs(tabsize=8)`把字符串 string 中的 tab 符号转为空格，tab 符号默认的空格数是 8 。\n",
    "8. `find(str, beg=0, end=len(string))`检测 str 是否包含在字符串中，如果指定范围 beg 和 end ，则检查是否包含在指定范围内，如果包含返回开始的索引值，否则返回-1\n",
    "9. `index(str, beg=0, end=len(string))`跟find()方法一样，只不过如果str不在字符串中会报一个异常.\n",
    "10. `isalnum()`如果字符串至少有一个字符并且所有字符都是字母或数字则返 回 True,否则返回 False\n",
    "11. `isalpha()`如果字符串至少有一个字符并且所有字符都是字母则返回 True, 否则返回 False\n",
    "12. `isdigit()`如果字符串只包含数字则返回 True 否则返回 False..\n",
    "13. `islower()`如果字符串中包含至少一个区分大小写的字符，并且所有这些(区分大小写的)字符都是小写，则返回 True，否则返回 False\n",
    "14. `isnumeric()`如果字符串中只包含数字字符，则返回 True，否则返回 False\n",
    "15. `isspace()`如果字符串中只包含空白，则返回 True，否则返回 False.\n",
    "16. `istitle()`如果字符串是标题化的(见 title())则返回 True，否则返回 False\n",
    "17. `isupper()`如果字符串中包含至少一个区分大小写的字符，并且所有这些(区分大小写的)字符都是大写，则返回 True，否则返回 False\n",
    "18. `join(seq)`以指定字符串作为分隔符，将 seq 中所有的元素(的字符串表示)合并为一个新的字符串\n",
    "19. `len(string)`返回字符串长度\n",
    "20. `ljust(width[, fillchar])`返回一个原字符串左对齐,并使用 fillchar 填充至长度 width 的新字符串，fillchar 默认为空格。\n",
    "21. `lower()`转换字符串中所有大写字符为小写.\n",
    "22. `lstrip()`截掉字符串左边的空格或指定字符。\n",
    "23. `maketrans()`创建字符映射的转换表，对于接受两个参数的最简单的调用方式，第一个参数是字符串，表示需要转换的字符，第二个参数也是字符串表示转换的目标。\n",
    "24. `max(str)`返回字符串 str 中最大的字母。\n",
    "25. `min(str)`返回字符串 str 中最小的字母。\n",
    "26. `replace(old, new [, max])`将字符串中的`str1`替换成`str2`,如果`max`指定，则替换不超过`max`次。\n",
    "27. `rfind(str, beg=0,end=len(string))`类似于 find()函数，不过是从右边开始查找.\n",
    "28. `rindex( str, beg=0, end=len(string))`类似于 index()，不过是从右边开始.\n",
    "29. `rjust(width,[, fillchar])`返回一个原字符串右对齐,并使用fillchar(默认空格）填充至长度 width 的新字符串\n",
    "30. `rstrip()`删除字符串字符串末尾的空格.\n",
    "31. `split(str=\"\", num=string.count(str))` `num=string.count(str))` 以`str`为分隔符截取字符串，如果`num`有指定值，则仅截取`num+1`个子字符串\n",
    "32. `splitlines([keepends])`按照行('\\r', '\\r\\n', \\n')分隔，返回一个包含各行作为元素的列表，如果参数 keepends 为 False，不包含换行符，如果为 True，则保留换行符。\n",
    "33. `startswith(substr, beg=0,end=len(string))`检查字符串是否是以指定子字符串 substr 开头，是则返回 True，否则返回 False。如果beg 和 end 指定值，则在指定范围内检查。\n",
    "34. `strip([chars])`在字符串上执行 lstrip()和 rstrip()\n",
    "35. `swapcase()`将字符串中大写转换为小写，小写转换为大写\n",
    "36. `title()`返回\"标题化\"的字符串,就是说所有单词都是以大写开始，其余字母均为小写(见 istitle())\n",
    "37. `translate(table, deletechars=\"\")`根据 str 给出的表(包含 256 个字符)转换 string 的字符, 要过滤掉的字符放到 deletechars 参数中\n",
    "38. `upper()`转换字符串中的小写字母为大写\n",
    "39. `zfill (width)`返回长度为 width 的字符串，原字符串右对齐，前面填充0\n",
    "40. `isdecimal()`检查字符串是否只包含十进制字符，如果是返回 true，否则返回 false。"
   ]
  },
  {
   "cell_type": "code",
   "execution_count": 16,
   "metadata": {},
   "outputs": [
    {
     "name": "stdout",
     "output_type": "stream",
     "text": [
      "Python\n",
      "--python--\n",
      "1\n",
      "True\n",
      "2\n",
      "False\n",
      "d-e-f-g-h\n",
      "d***e***f***g***h\n",
      "python++++++++++++++\n",
      "hhhhh\n"
     ]
    }
   ],
   "source": [
    "str='python'\n",
    "print(str.capitalize())\n",
    "print(str.center(10,'-'))\n",
    "print(str.count('py',0,5))\n",
    "print(str.endswith('on'))\n",
    "print(str.find('th'))\n",
    "print(str.isdigit())\n",
    "\n",
    "s1='-'\n",
    "s2='***'\n",
    "seq=('d','e','f','g','h')\n",
    "print(s1.join(seq))\n",
    "print(s2.join(seq))\n",
    "\n",
    "print(str.ljust(20,'+'))\n",
    "\n",
    "st='    hhhhh'\n",
    "print(st.lstrip())\n"
   ]
  },
  {
   "cell_type": "markdown",
   "metadata": {},
   "source": [
    "## 4. 字符串格式化问题\n",
    "|符号|描述|\n",
    "|--|--|\n",
    "|%c|格式化字符及其ASCII码|\n",
    "|%s|格式化字符串|\n",
    "|%d|格式化整数|\n",
    "|%u|格式化无符号整型|\n",
    "|%o|格式化无符号八进制数|\n",
    "|%x|格式化无符号十六进制数|\n",
    "|%X|格式化无符号十六进制数（大写）|\n",
    "|%f|格式化浮点数字，可指定小数点后的精度|\n",
    "|%e|用科学计数法格式化浮点数|\n",
    "|%E|作用同%e，用科学计数法格式化浮点数|\n",
    "|%g|%f和%e的简写|\n",
    "|%G|%f 和 %E 的简写|\n",
    "|%p|用十六进制数格式化变量的地址|\n",
    "  \n",
    "或者用[format()](https://www.runoob.com/python/att-string-format.html)"
   ]
  },
  {
   "cell_type": "code",
   "execution_count": 17,
   "metadata": {},
   "outputs": [
    {
     "data": {
      "text/plain": [
       "'Hello, world'"
      ]
     },
     "execution_count": 17,
     "metadata": {},
     "output_type": "execute_result"
    }
   ],
   "source": [
    "'Hello, %s' % 'world'"
   ]
  },
  {
   "cell_type": "code",
   "execution_count": 21,
   "metadata": {},
   "outputs": [
    {
     "data": {
      "text/plain": [
       "'Hello, m, you have $100000.000000.'"
      ]
     },
     "execution_count": 21,
     "metadata": {},
     "output_type": "execute_result"
    }
   ],
   "source": [
    "'Hello, %s, you have $%f.' % ('m',100000)"
   ]
  },
  {
   "cell_type": "code",
   "execution_count": null,
   "metadata": {},
   "outputs": [],
   "source": []
  }
 ],
 "metadata": {
  "kernelspec": {
   "display_name": "Python 3",
   "language": "python",
   "name": "python3"
  },
  "language_info": {
   "codemirror_mode": {
    "name": "ipython",
    "version": 3
   },
   "file_extension": ".py",
   "mimetype": "text/x-python",
   "name": "python",
   "nbconvert_exporter": "python",
   "pygments_lexer": "ipython3",
   "version": "3.7.3"
  }
 },
 "nbformat": 4,
 "nbformat_minor": 2
}
