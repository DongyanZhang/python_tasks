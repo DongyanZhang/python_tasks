{
 "cells": [
  {
   "cell_type": "markdown",
   "metadata": {},
   "source": [
    "# Task4 函数、文件操作、os操作\n",
    "## 1 函数的关键字、定义\n",
    "函数的关键字为`def`  \n",
    "```\n",
    "def 函数名 (参数列表)\n",
    "    函数体\n",
    "```"
   ]
  },
  {
   "cell_type": "markdown",
   "metadata": {},
   "source": [
    "## 2 函数参数\n",
    "### 2.1 位置参数（必选参数）\n",
    "以正确的顺序传入函数，调用时的数量必须和声明时保持一致"
   ]
  },
  {
   "cell_type": "code",
   "execution_count": 2,
   "metadata": {},
   "outputs": [
    {
     "data": {
      "text/plain": [
       "125"
      ]
     },
     "execution_count": 2,
     "metadata": {},
     "output_type": "execute_result"
    }
   ],
   "source": [
    "def power(x, n):\n",
    "    s = 1\n",
    "    while n > 0:\n",
    "        n = n - 1\n",
    "        s = s * x\n",
    "    return s\n",
    "\n",
    "power(5,3)  #调用函数时，传入的两个值按照位置顺序依次赋给参数x和n"
   ]
  },
  {
   "cell_type": "markdown",
   "metadata": {},
   "source": [
    "### 2.2 默认参数\n",
    "* 调用函数时，如果没有传递参数则使用默认参数，`def power(x, n=2)`  \n",
    "* 设置默认参数时,必选参数在前，默认参数在后，否则Python的解释器会报错  \n",
    "* 当函数有多个参数时，把变化大的参数放前面，变化小的参数放后面。变化小的参数就可以作为默认参数 \n",
    "* 有多个默认参数时，调用的时候，既可以按顺序提供默认参数，也可以不按顺序提供部分默认参数。当不按顺序提供部分默认参数时，需要把参数名写上。\n",
    "* 定义默认参数要牢记一点：**默认参数必须指向不变对象！**"
   ]
  },
  {
   "cell_type": "code",
   "execution_count": 4,
   "metadata": {},
   "outputs": [
    {
     "name": "stdout",
     "output_type": "stream",
     "text": [
      "name: Sarah\n",
      "gender: F\n",
      "age: 6\n",
      "city: Beijing\n"
     ]
    }
   ],
   "source": [
    "def enroll(name, gender, age=6, city='Beijing'):\n",
    "    print('name:',name)\n",
    "    print('gender:',gender)\n",
    "    print('age:',age)\n",
    "    print('city:',city)\n",
    "\n",
    "enroll('Sarah', 'F')"
   ]
  },
  {
   "cell_type": "code",
   "execution_count": 5,
   "metadata": {},
   "outputs": [
    {
     "name": "stdout",
     "output_type": "stream",
     "text": [
      "name: Adam\n",
      "gender: M\n",
      "age: 6\n",
      "city: Tianjin\n"
     ]
    }
   ],
   "source": [
    "enroll('Adam', 'M', city='Tianjin')"
   ]
  },
  {
   "cell_type": "markdown",
   "metadata": {},
   "source": [
    "### 2.3 可变参数\n",
    "* 可变参数就是传入的参数个数是可变的，可以是1个、2个到任意个，还可以是0个。  \n",
    "* 定义可变参数时，在参数前加一个`*`号，在函数内部，参数接收到的是一个tuple。在调用函数时可以传入任意个参数。  \n",
    "* 如果已经有一个list或者tuple，要调用一个可变参数，可以在list或tuple前面加一个`*`号，把list或tuple的元素变成可变参数传进去"
   ]
  },
  {
   "cell_type": "code",
   "execution_count": 8,
   "metadata": {},
   "outputs": [
    {
     "data": {
      "text/plain": [
       "30"
      ]
     },
     "execution_count": 8,
     "metadata": {},
     "output_type": "execute_result"
    }
   ],
   "source": [
    "def calc(*numbers):\n",
    "    sum = 0\n",
    "    for n in numbers:\n",
    "        sum = sum + n * n\n",
    "    return sum\n",
    "    \n",
    "calc(1,2,3,4)"
   ]
  },
  {
   "cell_type": "code",
   "execution_count": 10,
   "metadata": {},
   "outputs": [
    {
     "data": {
      "text/plain": [
       "0"
      ]
     },
     "execution_count": 10,
     "metadata": {},
     "output_type": "execute_result"
    }
   ],
   "source": [
    "calc()"
   ]
  },
  {
   "cell_type": "code",
   "execution_count": 11,
   "metadata": {},
   "outputs": [
    {
     "data": {
      "text/plain": [
       "14"
      ]
     },
     "execution_count": 11,
     "metadata": {},
     "output_type": "execute_result"
    }
   ],
   "source": [
    "nums = [1, 2, 3]\n",
    "calc(*nums)"
   ]
  },
  {
   "cell_type": "markdown",
   "metadata": {},
   "source": [
    "## 2.4 关键字参数\n",
    "* 关键字参数允许传入0个或任意个含参数名的参数，这些关键字参数在函数内部自动组装为一个dict\n",
    "* 定义关键字参数时，在参数前加`**`\n",
    "* 和可变参数类似，也可以先组装出一个dict，然后，把该dict转换为关键字参数传进去\n",
    "* **命名关键字参数**：  \n",
    "对于关键字参数，函数的调用者可以传入任意不受限制的关键字参数。如果要限制关键字参数的名字，就可以用命名关键字参数  \n",
    "命名关键字参数需要一个特殊分隔符`*`，`*`后面的参数被视为命名关键字参数。  \n",
    "如果函数定义中已经有了一个可变参数，后面跟着的命名关键字参数就不再需要一个特殊分隔符`*`了  \n",
    "命名关键字参数必须传入参数名，这和位置参数不同。如果没有传入参数名，调用将报错  \n",
    "命名关键字参数可以有缺省值，从而简化调用  "
   ]
  },
  {
   "cell_type": "code",
   "execution_count": 12,
   "metadata": {},
   "outputs": [
    {
     "name": "stdout",
     "output_type": "stream",
     "text": [
      "name: Michael age: 30 other: {}\n"
     ]
    }
   ],
   "source": [
    "#关键字参数\n",
    "def person(name, age, **kw):\n",
    "    print('name:',name,'age:',age,'other:',kw)\n",
    "\n",
    "#传入必选参数\n",
    "person('Michael',30)"
   ]
  },
  {
   "cell_type": "code",
   "execution_count": 15,
   "metadata": {},
   "outputs": [
    {
     "name": "stdout",
     "output_type": "stream",
     "text": [
      "name: Bob age: 35 other: {'city': 'Beijing'}\n",
      "name: Adam age: 45 other: {'gender': 'M', 'job': 'Engineer'}\n"
     ]
    }
   ],
   "source": [
    "#传入任意个数的关键字参数\n",
    "person('Bob', 35, city='Beijing')\n",
    "person('Adam', 45, gender='M', job='Engineer')"
   ]
  },
  {
   "cell_type": "code",
   "execution_count": 17,
   "metadata": {},
   "outputs": [
    {
     "name": "stdout",
     "output_type": "stream",
     "text": [
      "name: Jack age: 24 other: {'city': 'Beijing', 'job': 'Engineer'}\n"
     ]
    }
   ],
   "source": [
    "extra = {'city': 'Beijing', 'job': 'Engineer'}\n",
    "person('Jack',24,**extra)"
   ]
  },
  {
   "cell_type": "code",
   "execution_count": 18,
   "metadata": {},
   "outputs": [
    {
     "name": "stdout",
     "output_type": "stream",
     "text": [
      "Jack 24 Beijing Engineer\n"
     ]
    }
   ],
   "source": [
    "#命名关键字参数\n",
    "def person(name, age, *, city, job):\n",
    "    print(name, age, city, job)\n",
    "    \n",
    "person('Jack', 24, city='Beijing', job='Engineer')"
   ]
  },
  {
   "cell_type": "code",
   "execution_count": 20,
   "metadata": {},
   "outputs": [
    {
     "name": "stdout",
     "output_type": "stream",
     "text": [
      "Jack 24 Beijing Engineer\n"
     ]
    }
   ],
   "source": [
    "#命名关键字参数可以有缺省值，从而简化调用\n",
    "def person(name, age, *, city='Beijing', job):\n",
    "    print(name, age, city, job)\n",
    "    \n",
    "person('Jack', 24, job='Engineer')"
   ]
  },
  {
   "cell_type": "markdown",
   "metadata": {},
   "source": [
    "## 3 函数的作用域\n",
    "变量的作用域决定了在哪一部分程序可以访问哪个特定的变量名称。Python的作用域一共有4种，分别是：  \n",
    "* L (local) 局部作用域\n",
    "* E (Enclosing) 闭包函数外的函数中\n",
    "* G (Global) 全局作用域\n",
    "* B (Built-in) 内置作用域(内置函数所在模块的范围) \n",
    "\n",
    "以 L –> E –> G –>B 的规则查找，即：在局部找不到，便会去局部外的局部找（例如闭包），再找不到就会去全局找，再者去内置中找。  \n",
    "```\n",
    "g_count = 0  # 全局作用域\n",
    "def outer():\n",
    "    o_count = 1  # 闭包函数外的函数中\n",
    "    def inner():\n",
    "        i_count = 2  # 局部作用域\n",
    "```\n",
    "内置作用域是通过一个名为 builtin 的标准模块来实现的，但是这个变量名自身并没有放入内置作用域内，所以必须导入这个文件才能够使用它。在Python3.0中，可以使用以下的代码来查看到底预定义了哪些变量:\n",
    "```\n",
    ">>> import builtins\n",
    ">>> dir(builtins)\n",
    "```\n",
    "Python 中只有模块（module），类（class）以及函数（def、lambda）才会引入新的作用域，其它的代码块（如 if/elif/else/、try/except、for/while等）是不会引入新的作用域的，也就是说这些语句内定义的变量，外部也可以访问，如下代码：\n",
    "```\n",
    ">>> if True:\n",
    "...  msg = 'I am from Runoob'\n",
    "... \n",
    ">>> msg\n",
    "'I am from Runoob'\n",
    ">>> \n",
    "```\n",
    "实例中 msg 变量定义在 if 语句块中，但外部还是可以访问的。\n",
    "如果将 msg 定义在函数中，则它就是局部变量，外部不能访问：\n",
    "```\n",
    ">>> def test():\n",
    "...     msg_inner = 'I am from Runoob'\n",
    "... \n",
    ">>> msg_inner\n",
    "Traceback (most recent call last):\n",
    "  File \"<stdin>\", line 1, in <module>\n",
    "NameError: name 'msg_inner' is not defined\n",
    ">>>\n",
    "```\n",
    "从报错的信息上看，说明了 msg_inner 未定义，无法使用，因为它是局部变量，只有在函数内可以使用。\n",
    "\n",
    "**定义在函数内部的变量拥有一个局部作用域，定义在函数外的拥有全局作用域。**  \n",
    "\n",
    "**局部变量只能在其被声明的函数内部访问，而全局变量可以在整个程序范围内访问。**调用函数时，所有在函数内声明的变量名称都将被加入到作用域中。  "
   ]
  },
  {
   "cell_type": "markdown",
   "metadata": {},
   "source": [
    "### global 和 nonlocal关键字\n",
    "当内部作用域想修改外部作用域的变量时，就要用到global和nonlocal关键字了。  \n",
    "以下实例修改全局变量`num`："
   ]
  },
  {
   "cell_type": "code",
   "execution_count": 21,
   "metadata": {},
   "outputs": [
    {
     "name": "stdout",
     "output_type": "stream",
     "text": [
      "1\n",
      "123\n",
      "123\n"
     ]
    }
   ],
   "source": [
    "num = 1\n",
    "def fun1():\n",
    "    global num  # 需要使用 global 关键字声明\n",
    "    print(num) \n",
    "    num = 123\n",
    "    print(num)\n",
    "fun1()\n",
    "print(num)"
   ]
  },
  {
   "cell_type": "markdown",
   "metadata": {},
   "source": [
    "如果要修改嵌套作用域（enclosing 作用域，外层非全局作用域）中的变量则需要`nonlocal`关键字了"
   ]
  },
  {
   "cell_type": "code",
   "execution_count": 22,
   "metadata": {},
   "outputs": [
    {
     "name": "stdout",
     "output_type": "stream",
     "text": [
      "100\n",
      "100\n"
     ]
    }
   ],
   "source": [
    "def outer():\n",
    "    num = 10\n",
    "    def inner():\n",
    "        nonlocal num   # nonlocal关键字声明\n",
    "        num = 100\n",
    "        print(num)\n",
    "    inner()\n",
    "    print(num)\n",
    "outer()"
   ]
  },
  {
   "cell_type": "markdown",
   "metadata": {},
   "source": [
    "## 4 函数返回值"
   ]
  },
  {
   "cell_type": "code",
   "execution_count": 24,
   "metadata": {},
   "outputs": [
    {
     "name": "stdout",
     "output_type": "stream",
     "text": [
      "3\n"
     ]
    }
   ],
   "source": [
    "def maximum(x, y):    \n",
    "    if x > y:        \n",
    "        return x    \n",
    "    elif x == y:        \n",
    "        return 'The numbers are equal'    \n",
    "    else:        \n",
    "        return y\n",
    "    \n",
    "print(maximum(2, 3))"
   ]
  },
  {
   "cell_type": "markdown",
   "metadata": {},
   "source": [
    "## 5 文件操作\n",
    "### 5.1 打开文件方式"
   ]
  },
  {
   "cell_type": "code",
   "execution_count": 30,
   "metadata": {},
   "outputs": [
    {
     "name": "stdout",
     "output_type": "stream",
     "text": [
      "first line\n",
      "second line\n",
      "third line\n"
     ]
    }
   ],
   "source": [
    "#读文件\n",
    "f = open('C:/Users/Linxi/Desktop/python学习/extra/file.txt','r')  #打开，'r'表示打开后只能读\n",
    "print(f.read())  #f.read() 读文件全部内容\n",
    "f.close()        #关闭文件"
   ]
  },
  {
   "cell_type": "code",
   "execution_count": 33,
   "metadata": {},
   "outputs": [],
   "source": [
    "#写文件\n",
    "f = open('C:/Users/Linxi/Desktop/python学习/extra/file.txt','w')\n",
    "f.write('new line')\n",
    "f.close()"
   ]
  },
  {
   "cell_type": "markdown",
   "metadata": {},
   "source": [
    "### 5.2 文件对象的操作方法\n",
    "* `file.close()` 关闭文件\n",
    "* `file.flush()` 刷新文件内部缓冲，直接把内部缓冲区的数据立刻写入文件, 而不是被动的等待输出缓冲区写入。\n",
    "* `file.fileno()`返回一个整型的文件描述符(file descriptor FD 整型), 可以用在如os模块的read方法等一些底层操作上。\n",
    "* `file.isatty()`如果文件连接到一个终端设备返回 True，否则返回 False。\n",
    "* `file.read([size])`从文件读取指定的字节数，如果未给定或为负则读取所有。\n",
    "* `\tfile.readline([size])`读取整行，包括 \"\\n\" 字符。\n",
    "* `file.readlines([sizeint])`读取所有行并返回列表，若给定sizeint>0，返回总和大约为sizeint字节的行, 实际读取值可能比 sizeint 较大, 因为需要填充缓冲区。\n",
    "* `file.seek(offset[, whence])`设置文件当前位置\n",
    "* `file.tell()`返回文件当前位置\n",
    "* `file.truncate([size])`从文件的首行首字符开始截断，截断文件为 size 个字符，无 size 表示从当前位置截断；截断之后后面的所有字符被删除，其中 Widnows 系统下的换行代表2个字符大小。\n",
    "* `file.write(str)`将字符串写入文件，返回的是写入的字符长度。\n",
    "* `file.writelines(sequence)`向文件写入一个序列字符串列表，如果需要换行则要自己加入每行的换行符。"
   ]
  },
  {
   "cell_type": "markdown",
   "metadata": {},
   "source": [
    "### 5.3 操作excel及csv文件"
   ]
  },
  {
   "cell_type": "code",
   "execution_count": 51,
   "metadata": {},
   "outputs": [
    {
     "name": "stdout",
     "output_type": "stream",
     "text": [
      "[['', 'C1', 'C2', 'C3', 'C4', 'C5', 'C6', 'C7'], ['L1', 84.0, 99.0, 78.0, 4.0, 93.0, 26.0, 37.0], ['L2', 81.0, 27.0, 51.0, 7.0, 34.0, 98.0, 54.0], ['L3', 18.0, 67.0, 13.0, 74.0, 52.0, 22.0, 43.0], ['L4', 49.0, 80.0, 16.0, 16.0, 44.0, 66.0, 34.0], ['L5', 36.0, 96.0, 40.0, 40.0, 92.0, 58.0, 47.0], ['L6', 68.0, 44.0, 82.0, 55.0, 78.0, 60.0, 91.0], ['L7', 36.0, 71.0, 4.0, 4.0, 21.0, 97.0, 69.0], ['L8', 92.0, 64.0, 17.0, 18.0, 60.0, 100.0, 15.0], ['L9', 69.0, 39.0, 75.0, 65.0, 2.0, 86.0, 39.0], ['L10', 24.0, 15.0, 65.0, 56.0, 66.0, 33.0, 23.0], ['L11', 44.0, 17.0, 35.0, 32.0, 82.0, 65.0, 14.0], ['L12', 48.0, 2.0, 66.0, 37.0, 3.0, 77.0, 28.0], ['L13', 79.0, 61.0, 21.0, 91.0, 18.0, 18.0, 3.0]]\n"
     ]
    }
   ],
   "source": [
    "import xlrd, xlwt   #xlwt只能写入xls文件\n",
    "\n",
    "#读取xlsx文件内容\n",
    "rows = []   #create an empty list to store rows\n",
    "book = xlrd.open_workbook('./extra/test.xlsx')  #open the Excel spreadsheet as workbook\n",
    "sheet = book.sheet_by_index(0)    #get the first sheet\n",
    "for user in range(0, sheet.nrows):  #iterate 1 to maxrows\n",
    "    rows.append(list(sheet.row_values(user, 0, sheet.ncols)))  #iterate through the sheet and get data from rows in list\n",
    "print(rows)\n",
    "\n",
    "#写入xls文件\n",
    "rows1 = [['Name', 'Num'],['L', '40'],['M', '50']]\n",
    "book1 = xlwt.Workbook()   #create new book1 excle\n",
    "sheet1 = book1.add_sheet('user')   #create new sheet\n",
    "for i in range(0, 3):    \n",
    "    for j in range(0, len(rows1[i])):\n",
    "        sheet1.write(i, j, rows1[i][j])\n",
    "book1.save('./extra/newdata.xlsx')   #sava as testdata1.xls"
   ]
  },
  {
   "cell_type": "code",
   "execution_count": 42,
   "metadata": {},
   "outputs": [
    {
     "name": "stdout",
     "output_type": "stream",
     "text": [
      "['', 'C1', 'C2', 'C3', 'C4', 'C5', 'C6', 'C7']\n",
      "['L1', '30', '14', '41', '54', '12', '35', '96']\n",
      "['L2', '30', '13', '50', '1', '65', '42', '29']\n",
      "['L3', '96', '1', '59', '69', '3', '92', '62']\n",
      "['L4', '70', '79', '3', '92', '79', '31', '58']\n",
      "['L5', '88', '14', '11', '84', '56', '98', '26']\n",
      "['L6', '60', '66', '65', '6', '13', '76', '70']\n",
      "['L7', '96', '53', '76', '14', '61', '56', '99']\n",
      "['L8', '52', '13', '88', '53', '54', '59', '43']\n",
      "['L9', '10', '62', '80', '47', '37', '26', '59']\n",
      "['L10', '40', '100', '26', '68', '66', '66', '99']\n",
      "['L11', '24', '1', '93', '15', '28', '2', '43']\n",
      "['L12', '41', '89', '3', '24', '44', '50', '35']\n",
      "['L13', '23', '99', '51', '35', '99', '96', '14']\n"
     ]
    }
   ],
   "source": [
    "#读csv文件：先import csv，使用csv.reader()\n",
    "import csv\n",
    "csv_file = csv.reader(open('./extra/test.csv','r'))\n",
    "for user in csv_file:\n",
    "    print(user)"
   ]
  },
  {
   "cell_type": "code",
   "execution_count": 43,
   "metadata": {},
   "outputs": [
    {
     "name": "stdout",
     "output_type": "stream",
     "text": [
      "['L1', '30', '14', '41', '54', '12', '35', '96']\n",
      "['L2', '30', '13', '50', '1', '65', '42', '29']\n",
      "['L3', '96', '1', '59', '69', '3', '92', '62']\n",
      "['L4', '70', '79', '3', '92', '79', '31', '58']\n",
      "['L5', '88', '14', '11', '84', '56', '98', '26']\n",
      "['L6', '60', '66', '65', '6', '13', '76', '70']\n",
      "['L7', '96', '53', '76', '14', '61', '56', '99']\n",
      "['L8', '52', '13', '88', '53', '54', '59', '43']\n",
      "['L9', '10', '62', '80', '47', '37', '26', '59']\n",
      "['L10', '40', '100', '26', '68', '66', '66', '99']\n",
      "['L11', '24', '1', '93', '15', '28', '2', '43']\n",
      "['L12', '41', '89', '3', '24', '44', '50', '35']\n",
      "['L13', '23', '99', '51', '35', '99', '96', '14']\n"
     ]
    }
   ],
   "source": [
    "with open('./extra/test.csv', 'r') as csv_file:\n",
    "    reader = csv.reader(csv_file)\n",
    "    for user in reader:\n",
    "        print(user)"
   ]
  },
  {
   "cell_type": "code",
   "execution_count": 54,
   "metadata": {},
   "outputs": [
    {
     "name": "stdout",
     "output_type": "stream",
     "text": [
      "['L', '40']\n",
      "['M', '50']\n"
     ]
    }
   ],
   "source": [
    "#写csv文件\n",
    "dict = {'L': '40','M': '50'}\n",
    "csv_file = open('./extra/test.csv', 'w', newline='')\n",
    "writer = csv.writer(csv_file)\n",
    "for key in dict:\n",
    "    writer.writerow([key, dict[key]])\n",
    "csv_file.close()   #close CSV file\n",
    "\n",
    "csv_file1 = csv.reader(open('./extra/test.csv','r'))\n",
    "for user in csv_file1:\n",
    "    print(user)"
   ]
  },
  {
   "cell_type": "markdown",
   "metadata": {},
   "source": [
    "## 6 os模块\n",
    "os.sep:取代操作系统特定的路径分隔符  \n",
    "os.name:指示你正在使用的工作平台。比如对于Windows，它是'nt'，而对于Linux/Unix用户，它是'posix'。  \n",
    "os.getcwd:得到当前工作目录，即当前python脚本工作的目录路径。  \n",
    "os.getenv()和os.putenv:分别用来读取和设置环境变量  \n",
    "os.listdir():返回指定目录下的所有文件和目录名  \n",
    "os.remove(file):删除一个文件  \n",
    "os.stat（file）:获得文件属性  \n",
    "os.chmod(file):修改文件权限和时间戳  \n",
    "os.mkdir(name):创建目录  \n",
    "os.rmdir(name):删除目录  \n",
    "os.removedirs（r“c：\\python”）:删除多个目录  \n",
    "os.system():运行shell命令  \n",
    "os.exit():终止当前进程  \n",
    "os.linesep:给出当前平台的行终止符。例如，Windows使用'\\r\\n'，Linux使用'\\n'而Mac使用'\\r'  \n",
    "os.path.split():返回一个路径的目录名和文件名  \n",
    "os.path.isfile()和os.path.isdir()分别检验给出的路径是一个目录还是文件  \n",
    "os.path.existe():检验给出的路径是否真的存在  \n",
    "os.listdir(dirname):列出dirname下的目录和文件  \n",
    "os.getcwd():获得当前工作目录  \n",
    "os.curdir:返回当前目录（'.'）  \n",
    "os.chdir(dirname):改变工作目录到dirname  \n",
    "os.path.isdir(name):判断name是不是目录，不是目录就返回false  \n",
    "os.path.isfile(name):判断name这个文件是否存在，不存在返回false  \n",
    "os.path.exists(name):判断是否存在文件或目录name  \n",
    "os.path.getsize(name):或得文件大小，如果name是目录返回0L  \n",
    "os.path.abspath(name):获得绝对路径  \n",
    "os.path.isabs():判断是否为绝对路径  \n",
    "os.path.normpath(path):规范path字符串形式  \n",
    "os.path.split(name):分割文件名与目录（事实上，如果你完全使用目录，它也会将最后一个目录作为文件名而分离，同时它不会判断文件或目录是否存在）  \n",
    "os.path.splitext():分离文件名和扩展名  \n",
    "os.path.join(path,name):连接目录与文件名或目录  \n",
    "os.path.basename(path):返回文件名  \n",
    "os.path.dirname(path):返回文件路径  "
   ]
  },
  {
   "cell_type": "code",
   "execution_count": null,
   "metadata": {},
   "outputs": [],
   "source": []
  }
 ],
 "metadata": {
  "kernelspec": {
   "display_name": "Python 3",
   "language": "python",
   "name": "python3"
  },
  "language_info": {
   "codemirror_mode": {
    "name": "ipython",
    "version": 3
   },
   "file_extension": ".py",
   "mimetype": "text/x-python",
   "name": "python",
   "nbconvert_exporter": "python",
   "pygments_lexer": "ipython3",
   "version": "3.7.3"
  }
 },
 "nbformat": 4,
 "nbformat_minor": 2
}
