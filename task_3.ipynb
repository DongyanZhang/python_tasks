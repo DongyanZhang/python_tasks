{
 "cells": [
  {
   "cell_type": "markdown",
   "metadata": {},
   "source": [
    "# Task3 字典、集合、判断语句、循环语句等\n",
    "## 1. dict字典\n",
    "### 1.1 定义\n",
    "字典是另一种可变容器模型，且可存储任意类型对象。字典使用键值(keys)和值(values)存储。\n",
    "### 1.2 创建\n",
    "字典的每个键值(key=>value)对用冒号(:)分割，每个对之间用逗号(,)分割，整个字典包括在花括号({})中  \n",
    "格式如下所示：`d = {key1 : value1, key2 : value2 }`  \n",
    "其中，键值要求唯一，一个key对应一个value，值可以取任何数据类型，但**键必须是不可变的**，如字符串，数字或元组。"
   ]
  },
  {
   "cell_type": "code",
   "execution_count": 6,
   "metadata": {},
   "outputs": [
    {
     "name": "stdout",
     "output_type": "stream",
     "text": [
      "{'Michael': 95, 'Bob': 75, 'Tracy': 85}\n",
      "95\n",
      "{'Michael': 100, 'Bob': 75, 'Tracy': 85}\n",
      "{'Bob': 75, 'Tracy': 85}\n",
      "{}\n"
     ]
    }
   ],
   "source": [
    "dict1 = {'Michael': 95, 'Bob': 75, 'Tracy': 85}   #创建dict\n",
    "print(dict1)\n",
    "print(dict1['Michael'])  #访问dict\n",
    "dict1['Michael']=100     #修改dict\n",
    "print(dict1)\n",
    "del dict1['Michael']\n",
    "print(dict1)\n",
    "dict1.clear()\n",
    "print(dict1)\n",
    "# del dict1\n",
    "# print(dict1)"
   ]
  },
  {
   "cell_type": "markdown",
   "metadata": {},
   "source": [
    "### 1.3 字典的方法"
   ]
  },
  {
   "cell_type": "code",
   "execution_count": null,
   "metadata": {},
   "outputs": [],
   "source": [
    "dict1 = {'Michael': 95, 'Bob': 75, 'Tracy': 85}"
   ]
  },
  {
   "cell_type": "code",
   "execution_count": 11,
   "metadata": {},
   "outputs": [
    {
     "name": "stdout",
     "output_type": "stream",
     "text": [
      "dict1: {}\n",
      "{}\n"
     ]
    }
   ],
   "source": [
    "#删除字典内的所有元素\n",
    "dict1.clear()\n",
    "print('dict1:',dict1)\n",
    "#返回一个字典的浅复制\n",
    "dict2=dict1.copy()\n",
    "print(dict2)"
   ]
  },
  {
   "cell_type": "code",
   "execution_count": 10,
   "metadata": {},
   "outputs": [
    {
     "name": "stdout",
     "output_type": "stream",
     "text": [
      "{'user': 'root', 'num': [2, 3]}\n",
      "{'user': 'root', 'num': [2, 3]}\n",
      "{'user': 'runoob', 'num': [2, 3]}\n"
     ]
    }
   ],
   "source": [
    "dict1 =  {'user':'runoob','num':[1,2,3]}\n",
    " \n",
    "dict2 = dict1          # 浅拷贝: 引用对象\n",
    "dict3 = dict1.copy()   # 浅拷贝：深拷贝父对象（一级目录），子对象（二级目录）不拷贝，还是引用\n",
    " \n",
    "# 修改 data 数据\n",
    "dict1['user']='root'\n",
    "dict1['num'].remove(1)\n",
    " \n",
    "# 输出结果\n",
    "print(dict1)\n",
    "print(dict2)\n",
    "print(dict3)"
   ]
  },
  {
   "cell_type": "code",
   "execution_count": 15,
   "metadata": {},
   "outputs": [
    {
     "name": "stdout",
     "output_type": "stream",
     "text": [
      "{'name': None, 'age': None, 'sex': None}\n",
      "{'name': 12, 'age': 12, 'sex': 12}\n",
      "{'name': (1, 2, 3), 'age': (1, 2, 3), 'sex': (1, 2, 3)}\n"
     ]
    }
   ],
   "source": [
    "#创建一个新字典，以序列 seq 中元素做字典的键，value 为字典所有键对应的初始值\n",
    "seq=('name','age','sex')\n",
    "val=(1,2,3)\n",
    "dict=dict.fromkeys(seq)\n",
    "print(dict)\n",
    "dict=dict.fromkeys(seq,12)\n",
    "print(dict)\n",
    "dict=dict.fromkeys(seq,val)\n",
    "print(dict)"
   ]
  },
  {
   "cell_type": "code",
   "execution_count": 17,
   "metadata": {},
   "outputs": [
    {
     "name": "stdout",
     "output_type": "stream",
     "text": [
      "75\n",
      "NA\n"
     ]
    }
   ],
   "source": [
    "#返回指定键的值\n",
    "dict1 = {'Michael': 95, 'Bob': 75, 'Tracy': 85}\n",
    "print(dict1.get('Bob'))\n",
    "print(dict1.get('Bib','NA'))"
   ]
  },
  {
   "cell_type": "code",
   "execution_count": 18,
   "metadata": {},
   "outputs": [
    {
     "data": {
      "text/plain": [
       "True"
      ]
     },
     "execution_count": 18,
     "metadata": {},
     "output_type": "execute_result"
    }
   ],
   "source": [
    "#判断键是否在字典中\n",
    "'Bob' in dict1"
   ]
  },
  {
   "cell_type": "code",
   "execution_count": 19,
   "metadata": {},
   "outputs": [
    {
     "name": "stdout",
     "output_type": "stream",
     "text": [
      "dict_items([('Michael', 95), ('Bob', 75), ('Tracy', 85)])\n"
     ]
    }
   ],
   "source": [
    "#以列表返回可遍历的(键, 值) 元组数组\n",
    "print(dict1.items())"
   ]
  },
  {
   "cell_type": "code",
   "execution_count": 22,
   "metadata": {},
   "outputs": [
    {
     "name": "stdout",
     "output_type": "stream",
     "text": [
      "dict_keys(['Michael', 'Bob', 'Tracy'])\n",
      "['Michael', 'Bob', 'Tracy']\n"
     ]
    }
   ],
   "source": [
    "#返回一个迭代器，可以使用 list() 来转换为列表\n",
    "print(dict1.keys())\n",
    "print(list(dict1.keys()))"
   ]
  },
  {
   "cell_type": "code",
   "execution_count": 25,
   "metadata": {},
   "outputs": [
    {
     "name": "stdout",
     "output_type": "stream",
     "text": [
      "None\n"
     ]
    }
   ],
   "source": [
    "#返回指定键的值，如果键不存在于字典中，将会添加键并将值设为default\n",
    "print(dict1.setdefault('Bib'))"
   ]
  },
  {
   "cell_type": "code",
   "execution_count": 3,
   "metadata": {},
   "outputs": [
    {
     "name": "stdout",
     "output_type": "stream",
     "text": [
      "{'name': 'Runoob', 'age': 7, 'sex': 'female'}\n",
      "{'name': 'Runoob', 'age': 8, 'sex': 'female'}\n"
     ]
    }
   ],
   "source": [
    "#把字典dict2的键/值对更新到dict里\n",
    "dict = {'name': 'Runoob', 'age': 7}\n",
    "dict2 = {'sex': 'female'}\n",
    "dict3 = {'age': 8}\n",
    "dict.update(dict2)\n",
    "print(dict)\n",
    "dict.update(dict3)\n",
    "print(dict)"
   ]
  },
  {
   "cell_type": "code",
   "execution_count": 14,
   "metadata": {},
   "outputs": [
    {
     "name": "stdout",
     "output_type": "stream",
     "text": [
      "dict_values([95, 75])\n",
      "[95, 75]\n"
     ]
    }
   ],
   "source": [
    "#返回一个迭代器，可以使用 list() 来转换为列表\n",
    "print(dict.values())\n",
    "print(list(dict.values()))"
   ]
  },
  {
   "cell_type": "code",
   "execution_count": 18,
   "metadata": {},
   "outputs": [
    {
     "name": "stdout",
     "output_type": "stream",
     "text": [
      "95\n",
      "{'Bob': 75, 'Tracy': 85}\n"
     ]
    }
   ],
   "source": [
    "#删除字典给定键 key 所对应的值，返回值为被删除的值。key值必须给出。否则，返回default值。\n",
    "dict = {'Michael': 95, 'Bob': 75, 'Tracy': 85}\n",
    "print(dict.pop('Michael'))\n",
    "print(dict)"
   ]
  },
  {
   "cell_type": "code",
   "execution_count": 20,
   "metadata": {},
   "outputs": [
    {
     "name": "stdout",
     "output_type": "stream",
     "text": [
      "{'Michael': 95, 'Bob': 75, 'Tracy': 85}\n",
      "('Tracy', 85)\n",
      "{'Michael': 95, 'Bob': 75}\n"
     ]
    }
   ],
   "source": [
    "#随机返回并删除字典中的一对键和值(一般删除末尾对)。\n",
    "dict = {'Michael': 95, 'Bob': 75, 'Tracy': 85}\n",
    "print(dict)\n",
    "print(dict.popitem())\n",
    "print(dict)"
   ]
  },
  {
   "cell_type": "markdown",
   "metadata": {},
   "source": [
    "## 2. 集合\n",
    "### 2.1 特性\n",
    "集合（set）是一个无序的不重复元素序列。  \n",
    "set和dict类似，也是一组key的集合，但不存储value。由于key不能重复，所以，在set中，没有重复的key。\n",
    "### 2.2 创建\n",
    "可以使用大括号`{ }`或者`set()`函数创建集合，注意：创建一个空集合必须用 set() 而不是 { }，因为 { } 是用来创建一个空字典。  \n",
    "创建格式：`parame = {value01,value02,...}`或者`set(value)`"
   ]
  },
  {
   "cell_type": "code",
   "execution_count": 10,
   "metadata": {},
   "outputs": [
    {
     "name": "stdout",
     "output_type": "stream",
     "text": [
      "{1, 2, 3}\n",
      "{1, 2, 4, 6}\n"
     ]
    }
   ],
   "source": [
    "#创建集合set\n",
    "s=set([1, 1, 2, 2, 3, 3])\n",
    "print(s)\n",
    "s={1,2,4,6,4}\n",
    "print(s)"
   ]
  },
  {
   "cell_type": "markdown",
   "metadata": {},
   "source": [
    "### 2.3 方法"
   ]
  },
  {
   "cell_type": "code",
   "execution_count": 11,
   "metadata": {},
   "outputs": [
    {
     "name": "stdout",
     "output_type": "stream",
     "text": [
      "{1, 2, 4, 6, 8}\n",
      "{1, 2, 4, 6, 8, 12}\n"
     ]
    }
   ],
   "source": [
    "#添加元素\n",
    "s.add(8)\n",
    "print(s)\n",
    "s.update([12,6,4])\n",
    "print(s)"
   ]
  },
  {
   "cell_type": "code",
   "execution_count": 9,
   "metadata": {},
   "outputs": [
    {
     "name": "stdout",
     "output_type": "stream",
     "text": [
      "{1, 4, 6}\n",
      "{1, 4, 6}\n",
      "1\n",
      "{4, 6}\n",
      "set()\n"
     ]
    }
   ],
   "source": [
    "#删除元素\n",
    "s={1,2,4,6,4}\n",
    "s.remove(2)  #元素不存在会报错\n",
    "print(s)\n",
    "s.discard(9)  #不存在不会报错\n",
    "print(s)\n",
    "print(s.pop())  #随机删除元素\n",
    "print(s)\n",
    "s.clear()   #清空集合\n",
    "print(s)"
   ]
  },
  {
   "cell_type": "code",
   "execution_count": 8,
   "metadata": {},
   "outputs": [
    {
     "name": "stdout",
     "output_type": "stream",
     "text": [
      "{8}\n",
      "{1, 2, 5}\n",
      "{1, 2, 3, 5, 8}\n",
      "False\n",
      "True\n",
      "True\n"
     ]
    }
   ],
   "source": [
    "#集合运算\n",
    "\n",
    "#返回多个集合的差集\n",
    "set1={1,2,5,8}\n",
    "set2={1,2,3,5}\n",
    "set3=set1.difference(set2)\n",
    "print(set3)\n",
    "\n",
    "#交集\n",
    "print(set.intersection(set1,set2))\n",
    "\n",
    "#并集\n",
    "print(set.union(set1,set2))\n",
    "\n",
    "#判断两个集合是否包含相同的元素，如果没有返回 True，否则返回 False。\n",
    "print(set.isdisjoint(set1,set2))\n",
    "\n",
    "#判断x是不是y的子集\n",
    "x = {\"a\", \"b\", \"c\"}\n",
    "y = {\"f\", \"e\", \"d\", \"c\", \"b\", \"a\"}\n",
    "print(x.issubset(y)\n",
    "print(y.issuperset(x))"
   ]
  },
  {
   "cell_type": "markdown",
   "metadata": {},
   "source": [
    "## 3. 判断语句（要求掌握多条件判断）\n",
    "```\n",
    "if <条件判断1>:\n",
    "    <执行1>\n",
    "elif <条件判断2>:\n",
    "    <执行2>\n",
    "elif <条件判断3>:\n",
    "    <执行3>\n",
    "else:\n",
    "    <执行4>\n",
    "```"
   ]
  },
  {
   "cell_type": "markdown",
   "metadata": {},
   "source": [
    "### 练习\n",
    "小明身高1.75，体重80.5kg。请根据BMI公式（体重除以身高的平方）帮小明计算他的BMI指数，并根据BMI指数：\n",
    "* 低于18.5：过轻\n",
    "* 18.5-25：正常\n",
    "* 25-28：过重\n",
    "* 28-32：肥胖\n",
    "* 高于32：严重肥胖\n",
    "用`if-elif`判断并打印结果："
   ]
  },
  {
   "cell_type": "code",
   "execution_count": 12,
   "metadata": {},
   "outputs": [
    {
     "name": "stdout",
     "output_type": "stream",
     "text": [
      "26.285714285714285\n",
      "肥胖\n"
     ]
    }
   ],
   "source": [
    "height = 1.75\n",
    "weight = 80.5\n",
    "bmi = weight/(height**2)\n",
    "print(bmi)\n",
    "if bmi < 18.5:\n",
    "    print('过轻')\n",
    "elif bmi < 25:\n",
    "    print('正常')\n",
    "elif bmi < 32:\n",
    "    print('肥胖')\n",
    "else:\n",
    "    print('严重肥胖')"
   ]
  },
  {
   "cell_type": "markdown",
   "metadata": {},
   "source": [
    "## 4. 三目表达式\n",
    "`为真时的结果 if 判断条件 else 为假时的结果`"
   ]
  },
  {
   "cell_type": "code",
   "execution_count": 13,
   "metadata": {},
   "outputs": [
    {
     "name": "stdout",
     "output_type": "stream",
     "text": [
      "200\n"
     ]
    }
   ],
   "source": [
    "x = 100\n",
    "y = 200\n",
    "print(x if(x>y) else y)"
   ]
  },
  {
   "cell_type": "markdown",
   "metadata": {},
   "source": [
    "## 5. 循环语句\n",
    "### 5.1 `for ... in`循环\n",
    "```\n",
    "for <variable> in <sequence>:\n",
    "    <statements>\n",
    "else:\n",
    "    <statements>\n",
    "```"
   ]
  },
  {
   "cell_type": "code",
   "execution_count": 14,
   "metadata": {},
   "outputs": [
    {
     "name": "stdout",
     "output_type": "stream",
     "text": [
      "55\n"
     ]
    }
   ],
   "source": [
    "sum = 0\n",
    "seq = [1,2,3,4,5,6,7,8,9,10]\n",
    "for x in seq:\n",
    "    sum = sum + x\n",
    "print(sum)"
   ]
  },
  {
   "cell_type": "markdown",
   "metadata": {},
   "source": [
    "### 5.2 `while`循环\n",
    "```\n",
    "while <判断条件>：\n",
    "    <语句>\n",
    "else:\n",
    "    <语句>\n",
    "```  \n",
    "或者  \n",
    "```\n",
    "while <判断条件>：\n",
    "    <语句>\n",
    "```"
   ]
  },
  {
   "cell_type": "code",
   "execution_count": 17,
   "metadata": {},
   "outputs": [
    {
     "name": "stdout",
     "output_type": "stream",
     "text": [
      "11\n"
     ]
    }
   ],
   "source": [
    "a = 1\n",
    "while a < 10:\n",
    "#     print (a)\n",
    "    a = a + 2\n",
    "print (a)"
   ]
  },
  {
   "cell_type": "code",
   "execution_count": null,
   "metadata": {},
   "outputs": [],
   "source": []
  }
 ],
 "metadata": {
  "kernelspec": {
   "display_name": "Python 3",
   "language": "python",
   "name": "python3"
  }
 },
 "nbformat": 4,
 "nbformat_minor": 2
}
